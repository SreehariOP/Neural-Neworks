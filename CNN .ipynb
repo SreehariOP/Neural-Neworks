{
 "cells": [
  {
   "cell_type": "code",
   "execution_count": 49,
   "id": "49ca87c5",
   "metadata": {},
   "outputs": [],
   "source": [
    "import numpy as np\n",
    "import pandas as pd\n",
    "import matplotlib as npl\n",
    "import matplotlib.pyplot as plt"
   ]
  },
  {
   "cell_type": "code",
   "execution_count": 50,
   "id": "56e917a6",
   "metadata": {},
   "outputs": [],
   "source": [
    "import tensorflow as tf\n",
    "from tensorflow import keras"
   ]
  },
  {
   "cell_type": "code",
   "execution_count": 51,
   "id": "5d991b47",
   "metadata": {},
   "outputs": [],
   "source": [
    "fashion_mnist = keras.datasets.fashion_mnist"
   ]
  },
  {
   "cell_type": "code",
   "execution_count": 52,
   "id": "c145e6d7",
   "metadata": {},
   "outputs": [],
   "source": [
    "(x_train_full, y_train_full), (x_test, y_test) = fashion_mnist.load_data()"
   ]
  },
  {
   "cell_type": "code",
   "execution_count": 53,
   "id": "0762a81a",
   "metadata": {},
   "outputs": [],
   "source": [
    "class_names = [\"T-shirt/top\", \"Trouser\", \"Pullover\", \"Dress\", \"Coat\",\n",
    "               \"Sandal\", \"Shirt\", \"Sneaker\", \"Bag\", \"Ankle boot\"]"
   ]
  },
  {
   "cell_type": "code",
   "execution_count": null,
   "id": "91a13f98",
   "metadata": {},
   "outputs": [],
   "source": [
    "#Data Reshape"
   ]
  },
  {
   "cell_type": "code",
   "execution_count": 54,
   "id": "5dbe5c3f",
   "metadata": {},
   "outputs": [],
   "source": [
    "x_train_full=x_train_full.reshape((60000,28,28,1))"
   ]
  },
  {
   "cell_type": "code",
   "execution_count": 55,
   "id": "f787b8be",
   "metadata": {},
   "outputs": [],
   "source": [
    "x_test = x_test.reshape((10000,28,28,1))"
   ]
  },
  {
   "cell_type": "code",
   "execution_count": 10,
   "id": "4954edd8",
   "metadata": {},
   "outputs": [],
   "source": [
    "#normalisation"
   ]
  },
  {
   "cell_type": "code",
   "execution_count": 56,
   "id": "c0ffc9c6",
   "metadata": {},
   "outputs": [],
   "source": [
    "x_train_n= x_train_full/255.0"
   ]
  },
  {
   "cell_type": "code",
   "execution_count": 57,
   "id": "b4c6849f",
   "metadata": {},
   "outputs": [],
   "source": [
    "x_test_n= x_test/255.0"
   ]
  },
  {
   "cell_type": "code",
   "execution_count": 13,
   "id": "1828bedc",
   "metadata": {},
   "outputs": [],
   "source": [
    "#splitting into training and validation set"
   ]
  },
  {
   "cell_type": "code",
   "execution_count": 58,
   "id": "14fe718e",
   "metadata": {},
   "outputs": [],
   "source": [
    "x_valid,x_train = x_train_n[:5000],x_train_n[5000:]"
   ]
  },
  {
   "cell_type": "code",
   "execution_count": 59,
   "id": "e59f5db7",
   "metadata": {},
   "outputs": [],
   "source": [
    "y_valid,y_train = y_train_full[:5000],y_train_full[5000:]\n",
    "x_test= x_test_n"
   ]
  },
  {
   "cell_type": "code",
   "execution_count": null,
   "id": "69b392e4",
   "metadata": {},
   "outputs": [],
   "source": [
    "#Create model structure"
   ]
  },
  {
   "cell_type": "code",
   "execution_count": 60,
   "id": "dee0ab04",
   "metadata": {},
   "outputs": [],
   "source": [
    "np.random.seed(42)\n",
    "tf.random.set_seed(42)"
   ]
  },
  {
   "cell_type": "code",
   "execution_count": 65,
   "id": "7b226ac6",
   "metadata": {},
   "outputs": [],
   "source": [
    "model = keras.models.Sequential()\n",
    "model.add(keras.layers.Conv2D(filters = 32,kernel_size=(3,3),strides=1,padding=\"valid\",activation=\"relu\",input_shape=(28,28,1)))\n",
    "model.add(keras.layers.MaxPooling2D((2,2)))\n",
    "\n",
    "model.add(keras.layers.Flatten())\n",
    "model.add(keras.layers.Dense(300,activation=\"relu\"))\n",
    "model.add(keras.layers.Dense(100,activation=\"relu\"))\n",
    "model.add(keras.layers.Dense(10,activation=\"softmax\"))\n"
   ]
  },
  {
   "cell_type": "code",
   "execution_count": 66,
   "id": "2e3aac28",
   "metadata": {},
   "outputs": [
    {
     "name": "stdout",
     "output_type": "stream",
     "text": [
      "Model: \"sequential_6\"\n",
      "_________________________________________________________________\n",
      "Layer (type)                 Output Shape              Param #   \n",
      "=================================================================\n",
      "conv2d_5 (Conv2D)            (None, 26, 26, 32)        320       \n",
      "_________________________________________________________________\n",
      "max_pooling2d_5 (MaxPooling2 (None, 13, 13, 32)        0         \n",
      "_________________________________________________________________\n",
      "flatten_5 (Flatten)          (None, 5408)              0         \n",
      "_________________________________________________________________\n",
      "dense_15 (Dense)             (None, 300)               1622700   \n",
      "_________________________________________________________________\n",
      "dense_16 (Dense)             (None, 100)               30100     \n",
      "_________________________________________________________________\n",
      "dense_17 (Dense)             (None, 10)                1010      \n",
      "=================================================================\n",
      "Total params: 1,654,130\n",
      "Trainable params: 1,654,130\n",
      "Non-trainable params: 0\n",
      "_________________________________________________________________\n"
     ]
    }
   ],
   "source": [
    "model.summary()"
   ]
  },
  {
   "cell_type": "code",
   "execution_count": 67,
   "id": "612f1635",
   "metadata": {},
   "outputs": [],
   "source": [
    "model.compile(loss=\"sparse_categorical_crossentropy\",\n",
    "             optimizer = \"sgd\" ,\n",
    "             metrics = [\"accuracy\"])"
   ]
  },
  {
   "cell_type": "code",
   "execution_count": 71,
   "id": "e4ebc72f",
   "metadata": {},
   "outputs": [
    {
     "name": "stdout",
     "output_type": "stream",
     "text": [
      "Epoch 1/20\n",
      "860/860 [==============================] - 38s 44ms/step - loss: 0.3961 - accuracy: 0.8572 - val_loss: 0.4331 - val_accuracy: 0.8414\n",
      "Epoch 2/20\n",
      "860/860 [==============================] - 36s 42ms/step - loss: 0.3772 - accuracy: 0.8642 - val_loss: 0.3859 - val_accuracy: 0.8542\n",
      "Epoch 3/20\n",
      "860/860 [==============================] - 35s 41ms/step - loss: 0.3626 - accuracy: 0.8689 - val_loss: 0.7345 - val_accuracy: 0.7430\n",
      "Epoch 4/20\n",
      "860/860 [==============================] - 37s 43ms/step - loss: 0.3484 - accuracy: 0.8748 - val_loss: 0.3517 - val_accuracy: 0.8736\n",
      "Epoch 5/20\n",
      "860/860 [==============================] - 37s 42ms/step - loss: 0.3375 - accuracy: 0.8765 - val_loss: 0.3462 - val_accuracy: 0.8780\n",
      "Epoch 6/20\n",
      "860/860 [==============================] - 36s 42ms/step - loss: 0.3246 - accuracy: 0.8822 - val_loss: 0.3277 - val_accuracy: 0.8822\n",
      "Epoch 7/20\n",
      "860/860 [==============================] - 36s 42ms/step - loss: 0.3147 - accuracy: 0.8870 - val_loss: 0.3552 - val_accuracy: 0.8726\n",
      "Epoch 8/20\n",
      "860/860 [==============================] - 36s 42ms/step - loss: 0.3061 - accuracy: 0.8883 - val_loss: 0.4153 - val_accuracy: 0.8436\n",
      "Epoch 9/20\n",
      "860/860 [==============================] - 36s 42ms/step - loss: 0.2981 - accuracy: 0.8909 - val_loss: 0.3204 - val_accuracy: 0.8856\n",
      "Epoch 10/20\n",
      "860/860 [==============================] - 37s 43ms/step - loss: 0.2901 - accuracy: 0.8944 - val_loss: 0.3495 - val_accuracy: 0.8708\n",
      "Epoch 11/20\n",
      "860/860 [==============================] - 37s 43ms/step - loss: 0.2820 - accuracy: 0.8974 - val_loss: 0.3179 - val_accuracy: 0.8838\n",
      "Epoch 12/20\n",
      "860/860 [==============================] - 39s 45ms/step - loss: 0.2749 - accuracy: 0.8990 - val_loss: 0.2989 - val_accuracy: 0.8928\n",
      "Epoch 13/20\n",
      "860/860 [==============================] - 38s 44ms/step - loss: 0.2697 - accuracy: 0.9021 - val_loss: 0.3118 - val_accuracy: 0.8886\n",
      "Epoch 14/20\n",
      "860/860 [==============================] - 37s 43ms/step - loss: 0.2634 - accuracy: 0.9038 - val_loss: 0.3486 - val_accuracy: 0.8688\n",
      "Epoch 15/20\n",
      "860/860 [==============================] - 37s 42ms/step - loss: 0.2574 - accuracy: 0.9066 - val_loss: 0.3773 - val_accuracy: 0.8644\n",
      "Epoch 16/20\n",
      "860/860 [==============================] - 37s 43ms/step - loss: 0.2531 - accuracy: 0.9083 - val_loss: 0.2808 - val_accuracy: 0.8988\n",
      "Epoch 17/20\n",
      "860/860 [==============================] - 37s 43ms/step - loss: 0.2467 - accuracy: 0.9097 - val_loss: 0.3828 - val_accuracy: 0.8692\n",
      "Epoch 18/20\n",
      "860/860 [==============================] - 37s 42ms/step - loss: 0.2426 - accuracy: 0.9107 - val_loss: 0.3252 - val_accuracy: 0.8868\n",
      "Epoch 19/20\n",
      "860/860 [==============================] - 36s 42ms/step - loss: 0.2376 - accuracy: 0.9136 - val_loss: 0.2982 - val_accuracy: 0.8926\n",
      "Epoch 20/20\n",
      "860/860 [==============================] - 37s 43ms/step - loss: 0.2333 - accuracy: 0.9145 - val_loss: 0.3051 - val_accuracy: 0.8906\n"
     ]
    }
   ],
   "source": [
    "model_history = model.fit(x_train,y_train,epochs=20,batch_size=64, validation_data=(x_valid,y_valid))"
   ]
  },
  {
   "cell_type": "code",
   "execution_count": 73,
   "id": "3c96f214",
   "metadata": {},
   "outputs": [
    {
     "data": {
      "image/png": "[encoded data removed]",
      "text/plain": [
       "<Figure size 576x360 with 1 Axes>"
      ]
     },
     "metadata": {
      "needs_background": "light"
     },
     "output_type": "display_data"
    }
   ],
   "source": [
    "pd.DataFrame(model_history.history).plot(figsize=(8,5))\n",
    "plt.grid(True)\n",
    "plt.gca().set_ylim(0,1)\n",
    "plt.show()"
   ]
  },
  {
   "cell_type": "code",
   "execution_count": 74,
   "id": "ec734279",
   "metadata": {},
   "outputs": [
    {
     "name": "stdout",
     "output_type": "stream",
     "text": [
      "313/313 [==============================] - 3s 9ms/step - loss: 0.3130 - accuracy: 0.8871\n"
     ]
    }
   ],
   "source": [
    "ev = model.evaluate(x_test_n,y_test)"
   ]
  },
  {
   "cell_type": "code",
   "execution_count": 75,
   "id": "01cf2790",
   "metadata": {},
   "outputs": [
    {
     "data": {
      "text/plain": [
       "[0.31300240755081177, 0.8870999813079834]"
      ]
     },
     "execution_count": 75,
     "metadata": {},
     "output_type": "execute_result"
    }
   ],
   "source": [
    "ev"
   ]
  },
  {
   "cell_type": "code",
   "execution_count": 76,
   "id": "9076136f",
   "metadata": {},
   "outputs": [],
   "source": [
    "x_new = x_test[:3]"
   ]
  },
  {
   "cell_type": "code",
   "execution_count": 77,
   "id": "31534add",
   "metadata": {},
   "outputs": [
    {
     "name": "stdout",
     "output_type": "stream",
     "text": [
      "WARNING:tensorflow:From <ipython-input-77-2a45323cfad0>:1: Sequential.predict_classes (from tensorflow.python.keras.engine.sequential) is deprecated and will be removed after 2021-01-01.\n",
      "Instructions for updating:\n",
      "Please use instead:* `np.argmax(model.predict(x), axis=-1)`,   if your model does multi-class classification   (e.g. if it uses a `softmax` last-layer activation).* `(model.predict(x) > 0.5).astype(\"int32\")`,   if your model does binary classification   (e.g. if it uses a `sigmoid` last-layer activation).\n"
     ]
    },
    {
     "data": {
      "text/plain": [
       "array([9, 2, 1], dtype=int64)"
      ]
     },
     "execution_count": 77,
     "metadata": {},
     "output_type": "execute_result"
    }
   ],
   "source": [
    "y_pred = model.predict_classes(x_new)\n",
    "y_pred"
   ]
  },
  {
   "cell_type": "code",
   "execution_count": 78,
   "id": "1cf890dd",
   "metadata": {},
   "outputs": [
    {
     "data": {
      "text/plain": [
       "array([9, 2, 1], dtype=uint8)"
      ]
     },
     "execution_count": 78,
     "metadata": {},
     "output_type": "execute_result"
    }
   ],
   "source": [
    "y_test[:3]"
   ]
  },
  {
   "cell_type": "code",
   "execution_count": 79,
   "id": "997e20a8",
   "metadata": {},
   "outputs": [
    {
     "name": "stdout",
     "output_type": "stream",
     "text": [
      "AxesImage(54,36;334.8x217.44)\n"
     ]
    },
    {
     "data": {
      "image/png": "[encoded data removed]",
      "text/plain": [
       "<Figure size 432x288 with 1 Axes>"
      ]
     },
     "metadata": {
      "needs_background": "light"
     },
     "output_type": "display_data"
    }
   ],
   "source": [
    "print(plt.imshow(x_test[0].reshape((28,28))))"
   ]
  },
  {
   "cell_type": "code",
   "execution_count": null,
   "id": "87c44861",
   "metadata": {},
   "outputs": [],
   "source": []
  },
  {
   "cell_type": "code",
   "execution_count": null,
   "id": "618c3ecb",
   "metadata": {},
   "outputs": [],
   "source": []
  },
  {
   "cell_type": "code",
   "execution_count": null,
   "id": "4942243d",
   "metadata": {},
   "outputs": [],
   "source": []
  },
  {
   "cell_type": "code",
   "execution_count": null,
   "id": "7ee8b0f0",
   "metadata": {},
   "outputs": [],
   "source": []
  },
  {
   "cell_type": "code",
   "execution_count": null,
   "id": "66e36bd6",
   "metadata": {},
   "outputs": [],
   "source": []
  }
 ],
 "metadata": {
  "kernelspec": {
   "display_name": "Python 3",
   "language": "python",
   "name": "python3"
  },
  "language_info": {
   "codemirror_mode": {
    "name": "ipython",
    "version": 3
   },
   "file_extension": ".py",
   "mimetype": "text/x-python",
   "name": "python",
   "nbconvert_exporter": "python",
   "pygments_lexer": "ipython3",
   "version": "3.8.8"
  }
 },
 "nbformat": 4,
 "nbformat_minor": 5
}
