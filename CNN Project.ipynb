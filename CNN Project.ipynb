{
 "cells": [
  {
   "cell_type": "code",
   "execution_count": 17,
   "id": "09cb8cf9",
   "metadata": {},
   "outputs": [],
   "source": [
    "import numpy as np\n",
    "import pandas as pd\n",
    "import matplotlib as npl\n",
    "import matplotlib.pyplot as plt"
   ]
  },
  {
   "cell_type": "code",
   "execution_count": 18,
   "id": "6eef51a3",
   "metadata": {},
   "outputs": [],
   "source": [
    "import tensorflow as tf\n",
    "from tensorflow import keras"
   ]
  },
  {
   "cell_type": "code",
   "execution_count": 19,
   "id": "1d282f8a",
   "metadata": {},
   "outputs": [],
   "source": [
    "train_dir = r\"C:\\Users\\SREEHARI\\Desktop\\Tata Steel\\Data Files\\train\""
   ]
  },
  {
   "cell_type": "code",
   "execution_count": 20,
   "id": "ebfc739e",
   "metadata": {},
   "outputs": [],
   "source": [
    "validation_dir =r\"C:\\Users\\SREEHARI\\Desktop\\Tata Steel\\Data Files\\validation\""
   ]
  },
  {
   "cell_type": "code",
   "execution_count": 21,
   "id": "bf416eda",
   "metadata": {},
   "outputs": [],
   "source": [
    "test_dir = r\"C:\\Users\\SREEHARI\\Desktop\\Tata Steel\\Data Files\\test\""
   ]
  },
  {
   "cell_type": "code",
   "execution_count": 22,
   "id": "94b12759",
   "metadata": {},
   "outputs": [],
   "source": [
    "from tensorflow.keras.preprocessing.image import ImageDataGenerator"
   ]
  },
  {
   "cell_type": "code",
   "execution_count": 23,
   "id": "8cf7a766",
   "metadata": {},
   "outputs": [
    {
     "name": "stdout",
     "output_type": "stream",
     "text": [
      "Found 2000 images belonging to 2 classes.\n",
      "Found 1000 images belonging to 2 classes.\n"
     ]
    }
   ],
   "source": [
    "train_datagen =ImageDataGenerator(rescale=1./255)\n",
    "test_datagen = ImageDataGenerator(rescale =1./255)\n",
    "\n",
    "train_generator = train_datagen.flow_from_directory(\n",
    "        train_dir,\n",
    "        target_size=(150,150),\n",
    "        batch_size=20,\n",
    "        class_mode=\"binary\")\n",
    "\n",
    "validation_generator = test_datagen.flow_from_directory(\n",
    "        validation_dir,\n",
    "        target_size=(150,150),\n",
    "        batch_size=20,\n",
    "        class_mode=\"binary\")"
   ]
  },
  {
   "cell_type": "code",
   "execution_count": 24,
   "id": "982d389f",
   "metadata": {},
   "outputs": [],
   "source": [
    "from tensorflow.keras import layers\n",
    "from tensorflow.keras import models"
   ]
  },
  {
   "cell_type": "code",
   "execution_count": 25,
   "id": "108fe012",
   "metadata": {},
   "outputs": [],
   "source": [
    "model = models.Sequential()\n",
    "\n",
    "model.add(layers.Conv2D(32,(3,3),activation=\"relu\",input_shape=(150,150,3)))\n",
    "model.add(layers.MaxPooling2D((2,2)))\n",
    "\n",
    "model.add(layers.Conv2D(64,(3,3),activation=\"relu\"))\n",
    "model.add(layers.MaxPooling2D((2,2)))\n",
    "\n",
    "model.add(layers.Conv2D(128,(3,3),activation=\"relu\"))\n",
    "model.add(layers.MaxPooling2D((2,2)))\n",
    "\n",
    "model.add(layers.Conv2D(128,(3,3),activation=\"relu\"))\n",
    "model.add(layers.MaxPooling2D((2,2)))\n",
    "\n",
    "model.add(layers.Flatten())\n",
    "\n",
    "model.add(layers.Dense(512,activation=\"relu\"))\n",
    "model.add(layers.Dense(1,activation=\"sigmoid\"))"
   ]
  },
  {
   "cell_type": "code",
   "execution_count": 26,
   "id": "218a0257",
   "metadata": {},
   "outputs": [
    {
     "name": "stdout",
     "output_type": "stream",
     "text": [
      "Model: \"sequential_3\"\n",
      "_________________________________________________________________\n",
      "Layer (type)                 Output Shape              Param #   \n",
      "=================================================================\n",
      "conv2d_12 (Conv2D)           (None, 148, 148, 32)      896       \n",
      "_________________________________________________________________\n",
      "max_pooling2d_12 (MaxPooling (None, 74, 74, 32)        0         \n",
      "_________________________________________________________________\n",
      "conv2d_13 (Conv2D)           (None, 72, 72, 64)        18496     \n",
      "_________________________________________________________________\n",
      "max_pooling2d_13 (MaxPooling (None, 36, 36, 64)        0         \n",
      "_________________________________________________________________\n",
      "conv2d_14 (Conv2D)           (None, 34, 34, 128)       73856     \n",
      "_________________________________________________________________\n",
      "max_pooling2d_14 (MaxPooling (None, 17, 17, 128)       0         \n",
      "_________________________________________________________________\n",
      "conv2d_15 (Conv2D)           (None, 15, 15, 128)       147584    \n",
      "_________________________________________________________________\n",
      "max_pooling2d_15 (MaxPooling (None, 7, 7, 128)         0         \n",
      "_________________________________________________________________\n",
      "flatten_3 (Flatten)          (None, 6272)              0         \n",
      "_________________________________________________________________\n",
      "dense_6 (Dense)              (None, 512)               3211776   \n",
      "_________________________________________________________________\n",
      "dense_7 (Dense)              (None, 1)                 513       \n",
      "=================================================================\n",
      "Total params: 3,453,121\n",
      "Trainable params: 3,453,121\n",
      "Non-trainable params: 0\n",
      "_________________________________________________________________\n"
     ]
    }
   ],
   "source": [
    "model.summary()"
   ]
  },
  {
   "cell_type": "code",
   "execution_count": 27,
   "id": "608cc67b",
   "metadata": {},
   "outputs": [],
   "source": [
    "from tensorflow.keras import optimizers\n",
    "\n",
    "model.compile(loss=\"binary_crossentropy\",\n",
    "             optimizer=optimizers.RMSprop(lr=1e-4),\n",
    "             metrics=[\"accuracy\"])"
   ]
  },
  {
   "cell_type": "code",
   "execution_count": 28,
   "id": "e70affc7",
   "metadata": {},
   "outputs": [
    {
     "name": "stdout",
     "output_type": "stream",
     "text": [
      "WARNING:tensorflow:From <ipython-input-28-fc3ca0f42a35>:1: Model.fit_generator (from tensorflow.python.keras.engine.training) is deprecated and will be removed in a future version.\n",
      "Instructions for updating:\n",
      "Please use Model.fit, which supports generators.\n",
      "Epoch 1/20\n",
      "100/100 [==============================] - 139s 1s/step - loss: 0.6884 - accuracy: 0.5390 - val_loss: 0.6744 - val_accuracy: 0.5390\n",
      "Epoch 2/20\n",
      "100/100 [==============================] - 94s 943ms/step - loss: 0.6605 - accuracy: 0.6080 - val_loss: 0.6422 - val_accuracy: 0.6430\n",
      "Epoch 3/20\n",
      "100/100 [==============================] - 98s 976ms/step - loss: 0.6271 - accuracy: 0.6475 - val_loss: 0.6225 - val_accuracy: 0.6580\n",
      "Epoch 4/20\n",
      "100/100 [==============================] - 120s 1s/step - loss: 0.5888 - accuracy: 0.6915 - val_loss: 0.6352 - val_accuracy: 0.6210\n",
      "Epoch 5/20\n",
      "100/100 [==============================] - 94s 942ms/step - loss: 0.5482 - accuracy: 0.7160 - val_loss: 0.6066 - val_accuracy: 0.6700\n",
      "Epoch 6/20\n",
      "100/100 [==============================] - 94s 942ms/step - loss: 0.5184 - accuracy: 0.7415 - val_loss: 0.5839 - val_accuracy: 0.6840\n",
      "Epoch 7/20\n",
      "100/100 [==============================] - 94s 942ms/step - loss: 0.4824 - accuracy: 0.7725 - val_loss: 0.5973 - val_accuracy: 0.6800\n",
      "Epoch 8/20\n",
      "100/100 [==============================] - 94s 945ms/step - loss: 0.4587 - accuracy: 0.7850 - val_loss: 0.5598 - val_accuracy: 0.7110\n",
      "Epoch 9/20\n",
      "100/100 [==============================] - 95s 950ms/step - loss: 0.4313 - accuracy: 0.8060 - val_loss: 0.5651 - val_accuracy: 0.7070\n",
      "Epoch 10/20\n",
      "100/100 [==============================] - 96s 957ms/step - loss: 0.4006 - accuracy: 0.8170 - val_loss: 0.5866 - val_accuracy: 0.7040\n",
      "Epoch 11/20\n",
      "100/100 [==============================] - 94s 943ms/step - loss: 0.3793 - accuracy: 0.8380 - val_loss: 0.5698 - val_accuracy: 0.7090\n",
      "Epoch 12/20\n",
      "100/100 [==============================] - 94s 944ms/step - loss: 0.3425 - accuracy: 0.8535 - val_loss: 0.5784 - val_accuracy: 0.7140\n",
      "Epoch 13/20\n",
      "100/100 [==============================] - 95s 946ms/step - loss: 0.3162 - accuracy: 0.8735 - val_loss: 0.5941 - val_accuracy: 0.7140\n",
      "Epoch 14/20\n",
      "100/100 [==============================] - 95s 947ms/step - loss: 0.2980 - accuracy: 0.8740 - val_loss: 0.6034 - val_accuracy: 0.7190\n",
      "Epoch 15/20\n",
      "100/100 [==============================] - 96s 959ms/step - loss: 0.2719 - accuracy: 0.8885 - val_loss: 0.6925 - val_accuracy: 0.6930\n",
      "Epoch 16/20\n",
      "100/100 [==============================] - 96s 963ms/step - loss: 0.2486 - accuracy: 0.9005 - val_loss: 0.6205 - val_accuracy: 0.7280\n",
      "Epoch 17/20\n",
      "100/100 [==============================] - 95s 946ms/step - loss: 0.2326 - accuracy: 0.9120 - val_loss: 0.6365 - val_accuracy: 0.7330\n",
      "Epoch 18/20\n",
      "100/100 [==============================] - 94s 943ms/step - loss: 0.2070 - accuracy: 0.9205 - val_loss: 0.6166 - val_accuracy: 0.7310\n",
      "Epoch 19/20\n",
      "100/100 [==============================] - 94s 944ms/step - loss: 0.1786 - accuracy: 0.9335 - val_loss: 0.6437 - val_accuracy: 0.7290\n",
      "Epoch 20/20\n",
      "100/100 [==============================] - 94s 942ms/step - loss: 0.1672 - accuracy: 0.9355 - val_loss: 0.6635 - val_accuracy: 0.7220\n"
     ]
    }
   ],
   "source": [
    "history = model.fit_generator(\n",
    "        train_generator,\n",
    "        steps_per_epoch=100,                                #2000/20=100\n",
    "        epochs=20,\n",
    "        validation_data= validation_generator,\n",
    "        validation_steps = 50)                              #1000/20=50"
   ]
  },
  {
   "cell_type": "code",
   "execution_count": 32,
   "id": "c5fa379e",
   "metadata": {},
   "outputs": [
    {
     "data": {
      "image/png": "[encoded data removed]",
      "text/plain": [
       "<Figure size 576x360 with 1 Axes>"
      ]
     },
     "metadata": {
      "needs_background": "light"
     },
     "output_type": "display_data"
    }
   ],
   "source": [
    "pd.DataFrame(history.history).plot(figsize=(8,5))\n",
    "plt.grid(True)\n",
    "plt.gca().set_ylim(0,1)\n",
    "plt.show()\n"
   ]
  },
  {
   "cell_type": "code",
   "execution_count": 33,
   "id": "df71eed3",
   "metadata": {},
   "outputs": [],
   "source": [
    "model.save(\"model.h5\")"
   ]
  },
  {
   "cell_type": "code",
   "execution_count": 34,
   "id": "884405ce",
   "metadata": {},
   "outputs": [],
   "source": [
    "from tensorflow.keras import  backend as K"
   ]
  },
  {
   "cell_type": "code",
   "execution_count": 35,
   "id": "8b60ce64",
   "metadata": {},
   "outputs": [],
   "source": [
    "K.clear_session()\n",
    "del model"
   ]
  },
  {
   "cell_type": "code",
   "execution_count": null,
   "id": "751bda49",
   "metadata": {},
   "outputs": [],
   "source": []
  },
  {
   "cell_type": "markdown",
   "id": "55d76aee",
   "metadata": {},
   "source": [
    "# Data Augmentation"
   ]
  },
  {
   "cell_type": "code",
   "execution_count": 37,
   "id": "2fd22c31",
   "metadata": {},
   "outputs": [],
   "source": [
    "#Transformation\n",
    "train_datagen = ImageDataGenerator(\n",
    "        rescale=1./255,\n",
    "        rotation_range=40,\n",
    "        width_shift_range=0.2,\n",
    "        height_shift_range=0.2,\n",
    "        shear_range=0.2,\n",
    "        zoom_range=0.2,\n",
    "        horizontal_flip=True)"
   ]
  },
  {
   "cell_type": "code",
   "execution_count": 38,
   "id": "14161809",
   "metadata": {},
   "outputs": [],
   "source": [
    "test_datagen = ImageDataGenerator(rescale=1./255)"
   ]
  },
  {
   "cell_type": "code",
   "execution_count": 39,
   "id": "6ac10404",
   "metadata": {},
   "outputs": [
    {
     "name": "stdout",
     "output_type": "stream",
     "text": [
      "Found 2000 images belonging to 2 classes.\n",
      "Found 1000 images belonging to 2 classes.\n"
     ]
    }
   ],
   "source": [
    "train_generator = train_datagen.flow_from_directory(\n",
    "        train_dir,\n",
    "        target_size=(150,150),\n",
    "        batch_size=32,\n",
    "        class_mode=\"binary\")\n",
    "\n",
    "validation_generator = test_datagen.flow_from_directory(\n",
    "        validation_dir,\n",
    "        target_size=(150,150),\n",
    "        batch_size=32,\n",
    "        class_mode=\"binary\")"
   ]
  },
  {
   "cell_type": "code",
   "execution_count": 40,
   "id": "0eae9fde",
   "metadata": {},
   "outputs": [],
   "source": [
    "model = models.Sequential()\n",
    "\n",
    "model.add(layers.Conv2D(32,(3,3),activation=\"relu\",input_shape=(150,150,3)))\n",
    "model.add(layers.MaxPooling2D((2,2)))\n",
    "\n",
    "model.add(layers.Conv2D(64,(3,3),activation=\"relu\"))\n",
    "model.add(layers.MaxPooling2D((2,2)))\n",
    "\n",
    "model.add(layers.Conv2D(128,(3,3),activation=\"relu\"))\n",
    "model.add(layers.MaxPooling2D((2,2)))\n",
    "\n",
    "model.add(layers.Conv2D(128,(3,3),activation=\"relu\"))\n",
    "model.add(layers.MaxPooling2D((2,2)))\n",
    "\n",
    "model.add(layers.Flatten())\n",
    "model.add(layers.Dropout(0.5))     #it will deactivate 50% neurons from each epoch. Effective to avoid overfitting\n",
    "\n",
    "model.add(layers.Dense(512,activation=\"relu\"))\n",
    "model.add(layers.Dense(1,activation=\"sigmoid\"))"
   ]
  },
  {
   "cell_type": "code",
   "execution_count": 41,
   "id": "36a403c6",
   "metadata": {},
   "outputs": [],
   "source": [
    "model.compile(loss=\"binary_crossentropy\",\n",
    "             optimizer=optimizers.RMSprop(lr=1e-4),\n",
    "             metrics=[\"accuracy\"])"
   ]
  },
  {
   "cell_type": "code",
   "execution_count": null,
   "id": "54c39ffb",
   "metadata": {},
   "outputs": [],
   "source": [
    "history = model.fit_generator(\n",
    "        train_generator,\n",
    "        steps_per_epoch=100,                                #2000/20=100\n",
    "        epochs=100,\n",
    "        validation_data= validation_generator,\n",
    "        validation_steps = 50)  "
   ]
  },
  {
   "cell_type": "code",
   "execution_count": null,
   "id": "ea75fca2",
   "metadata": {},
   "outputs": [],
   "source": [
    "pd.DataFrame(history.history).plot(figsize=(8,5))\n",
    "plt.grid(True)\n",
    "plt.gca().set_ylim(0,1)\n",
    "plt.show()"
   ]
  }
 ],
 "metadata": {
  "kernelspec": {
   "display_name": "Python 3",
   "language": "python",
   "name": "python3"
  },
  "language_info": {
   "codemirror_mode": {
    "name": "ipython",
    "version": 3
   },
   "file_extension": ".py",
   "mimetype": "text/x-python",
   "name": "python",
   "nbconvert_exporter": "python",
   "pygments_lexer": "ipython3",
   "version": "3.8.8"
  }
 },
 "nbformat": 4,
 "nbformat_minor": 5
}
